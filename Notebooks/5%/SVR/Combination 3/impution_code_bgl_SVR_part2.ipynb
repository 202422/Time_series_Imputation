{
  "cells": [
    {
      "cell_type": "code",
      "execution_count": 1,
      "metadata": {
        "id": "h3_J5EH6SYLW"
      },
      "outputs": [],
      "source": [
        "import pandas as pd\n",
        "import random\n",
        "import numpy as np"
      ]
    },
    {
      "cell_type": "code",
      "execution_count": 2,
      "metadata": {
        "id": "8m7WXq90KBIy"
      },
      "outputs": [],
      "source": [
        "def to_sequence(data, seq_size=10):\n",
        "    x, y = [], []\n",
        "\n",
        "    for i in range(len(data)-seq_size):\n",
        "        window = data[i:(i+seq_size)].values\n",
        "        after_window = data[i+seq_size]\n",
        "        x.append(window)\n",
        "        y.append(after_window)\n",
        "\n",
        "    return np.array(x), np.array(y)"
      ]
    },
    {
      "cell_type": "code",
      "execution_count": 3,
      "metadata": {
        "colab": {
          "base_uri": "https://localhost:8080/"
        },
        "id": "Bth6Wl2yHuj9",
        "outputId": "c11a1d6c-529f-4b67-b4b5-a79251f58366"
      },
      "outputs": [
        {
          "name": "stdout",
          "output_type": "stream",
          "text": [
            "40\n",
            "41\n",
            "42\n",
            "43\n",
            "44\n",
            "45\n",
            "46\n",
            "47\n",
            "48\n",
            "49\n",
            "50\n",
            "51\n",
            "52\n",
            "53\n",
            "54\n",
            "55\n",
            "56\n",
            "57\n",
            "58\n",
            "59\n",
            "60\n",
            "61\n",
            "62\n",
            "63\n",
            "64\n",
            "65\n",
            "66\n",
            "67\n",
            "68\n",
            "69\n",
            "70\n",
            "71\n",
            "72\n",
            "73\n",
            "74\n",
            "75\n",
            "76\n",
            "77\n",
            "78\n",
            "79\n"
          ]
        }
      ],
      "source": [
        "import numpy as np\n",
        "import tensorflow as tf\n",
        "from sklearn.model_selection import train_test_split\n",
        "from sklearn.metrics import mean_squared_error\n",
        "import pandas as pd\n",
        "from sklearn.svm import SVR\n",
        "from sklearn.metrics import *\n",
        "\n",
        "df_1 = pd.read_csv('/content/Patient_result_SVR4_5_part1.csv')\n",
        "\n",
        "vertical_MAE = df_1['MAE'].values\n",
        "vertical_MSE= np.power(df_1[\"RMSE\"].values,2)\n",
        "vertical_RMSE= df_1[\"RMSE\"].values\n",
        "vertical_MRE= df_1[\"MMRE\"].values\n",
        "vertical_MMRE= df_1[\"MMRE\"].values\n",
        "vertical_PRED= df_1[\"PRED\"].values\n",
        "\n",
        "for j in range(40,80):\n",
        "  # Read csv file into a pandas dataframe\n",
        "  df = pd.read_csv(f'/content/Patient_{j}.csv')\n",
        "  print(j)\n",
        "\n",
        "  for i in range(len(df)):\n",
        "    if np.isnan(df.at[i,'SensorGLU']):\n",
        "      X, y = to_sequence(df[:i-1].SensorGLU)\n",
        "      X_train, X_test, y_train, y_test = train_test_split(X, y, test_size=0.2)\n",
        "      # Create a SVR model\n",
        "      model = SVR(kernel='linear',gamma='auto', C=10.0, epsilon = 0.001)\n",
        "      # Train the model\n",
        "      model.fit(X_train, y_train)\n",
        "      # Make imputation\n",
        "      df.at[i,'SensorGLU']= model.predict((df.loc[i-10:i-1, \"SensorGLU\"].values).reshape(1,10))\n",
        "\n",
        "\n",
        "  # Model Assessing\n",
        "  pred = model.predict(X_test)\n",
        "  vertical_MAE =np.append(vertical_MAE , mean_absolute_error(y_test,pred))\n",
        "  vertical_MSE =np.append(vertical_MSE , mean_squared_error(y_test,pred))\n",
        "  vertical_RMSE =np.append(vertical_RMSE , np.sqrt(mean_squared_error(y_test,pred)))\n",
        "  vertical_MRE = np.append(vertical_MRE , np.abs((y_test-pred)/y_test)*100)\n",
        "  vertical_MMRE = np.append(vertical_MMRE , np.mean(np.abs((y_test-pred)/y_test)*100))\n",
        "  Pred = lambda p: len(vertical_MRE[vertical_MRE <= p])/len(vertical_MRE)*100\n",
        "  PRED = Pred(25)\n",
        "  vertical_PRED =np.append(vertical_PRED , PRED)"
      ]
    },
    {
      "cell_type": "code",
      "execution_count": 4,
      "metadata": {
        "colab": {
          "base_uri": "https://localhost:8080/",
          "height": 424
        },
        "id": "q2Y8sQNhUmPL",
        "outputId": "792351df-9b42-4f9d-c805-e495cb33c30a"
      },
      "outputs": [
        {
          "data": {
            "application/vnd.google.colaboratory.intrinsic+json": {
              "summary": "{\n  \"name\": \"df\",\n  \"rows\": 308,\n  \"fields\": [\n    {\n      \"column\": \"ReadingDateTime\",\n      \"properties\": {\n        \"dtype\": \"object\",\n        \"num_unique_values\": 308,\n        \"samples\": [\n          \"2000-06-08 18:29:00\",\n          \"2000-06-07 19:14:00\",\n          \"2000-06-07 23:14:00\"\n        ],\n        \"semantic_type\": \"\",\n        \"description\": \"\"\n      }\n    },\n    {\n      \"column\": \"SensorGLU\",\n      \"properties\": {\n        \"dtype\": \"number\",\n        \"std\": 46.00546142573288,\n        \"min\": 82.0,\n        \"max\": 289.0,\n        \"num_unique_values\": 158,\n        \"samples\": [\n          288.0,\n          202.0,\n          237.0494506612704\n        ],\n        \"semantic_type\": \"\",\n        \"description\": \"\"\n      }\n    }\n  ]\n}",
              "type": "dataframe",
              "variable_name": "df"
            },
            "text/html": [
              "\n",
              "  <div id=\"df-df7465d1-24e1-464e-8225-f044f32715df\" class=\"colab-df-container\">\n",
              "    <div>\n",
              "<style scoped>\n",
              "    .dataframe tbody tr th:only-of-type {\n",
              "        vertical-align: middle;\n",
              "    }\n",
              "\n",
              "    .dataframe tbody tr th {\n",
              "        vertical-align: top;\n",
              "    }\n",
              "\n",
              "    .dataframe thead th {\n",
              "        text-align: right;\n",
              "    }\n",
              "</style>\n",
              "<table border=\"1\" class=\"dataframe\">\n",
              "  <thead>\n",
              "    <tr style=\"text-align: right;\">\n",
              "      <th></th>\n",
              "      <th>ReadingDateTime</th>\n",
              "      <th>SensorGLU</th>\n",
              "    </tr>\n",
              "  </thead>\n",
              "  <tbody>\n",
              "    <tr>\n",
              "      <th>0</th>\n",
              "      <td>2000-06-07 18:29:00</td>\n",
              "      <td>108.0</td>\n",
              "    </tr>\n",
              "    <tr>\n",
              "      <th>1</th>\n",
              "      <td>2000-06-07 18:34:00</td>\n",
              "      <td>107.0</td>\n",
              "    </tr>\n",
              "    <tr>\n",
              "      <th>2</th>\n",
              "      <td>2000-06-07 18:39:00</td>\n",
              "      <td>108.0</td>\n",
              "    </tr>\n",
              "    <tr>\n",
              "      <th>3</th>\n",
              "      <td>2000-06-07 18:44:00</td>\n",
              "      <td>112.0</td>\n",
              "    </tr>\n",
              "    <tr>\n",
              "      <th>4</th>\n",
              "      <td>2000-06-07 18:49:00</td>\n",
              "      <td>122.0</td>\n",
              "    </tr>\n",
              "    <tr>\n",
              "      <th>...</th>\n",
              "      <td>...</td>\n",
              "      <td>...</td>\n",
              "    </tr>\n",
              "    <tr>\n",
              "      <th>303</th>\n",
              "      <td>2000-06-08 19:44:00</td>\n",
              "      <td>232.0</td>\n",
              "    </tr>\n",
              "    <tr>\n",
              "      <th>304</th>\n",
              "      <td>2000-06-08 19:49:00</td>\n",
              "      <td>243.0</td>\n",
              "    </tr>\n",
              "    <tr>\n",
              "      <th>305</th>\n",
              "      <td>2000-06-08 19:54:00</td>\n",
              "      <td>255.0</td>\n",
              "    </tr>\n",
              "    <tr>\n",
              "      <th>306</th>\n",
              "      <td>2000-06-08 19:59:00</td>\n",
              "      <td>265.0</td>\n",
              "    </tr>\n",
              "    <tr>\n",
              "      <th>307</th>\n",
              "      <td>2000-06-08 20:04:00</td>\n",
              "      <td>260.0</td>\n",
              "    </tr>\n",
              "  </tbody>\n",
              "</table>\n",
              "<p>308 rows × 2 columns</p>\n",
              "</div>\n",
              "    <div class=\"colab-df-buttons\">\n",
              "\n",
              "  <div class=\"colab-df-container\">\n",
              "    <button class=\"colab-df-convert\" onclick=\"convertToInteractive('df-df7465d1-24e1-464e-8225-f044f32715df')\"\n",
              "            title=\"Convert this dataframe to an interactive table.\"\n",
              "            style=\"display:none;\">\n",
              "\n",
              "  <svg xmlns=\"http://www.w3.org/2000/svg\" height=\"24px\" viewBox=\"0 -960 960 960\">\n",
              "    <path d=\"M120-120v-720h720v720H120Zm60-500h600v-160H180v160Zm220 220h160v-160H400v160Zm0 220h160v-160H400v160ZM180-400h160v-160H180v160Zm440 0h160v-160H620v160ZM180-180h160v-160H180v160Zm440 0h160v-160H620v160Z\"/>\n",
              "  </svg>\n",
              "    </button>\n",
              "\n",
              "  <style>\n",
              "    .colab-df-container {\n",
              "      display:flex;\n",
              "      gap: 12px;\n",
              "    }\n",
              "\n",
              "    .colab-df-convert {\n",
              "      background-color: #E8F0FE;\n",
              "      border: none;\n",
              "      border-radius: 50%;\n",
              "      cursor: pointer;\n",
              "      display: none;\n",
              "      fill: #1967D2;\n",
              "      height: 32px;\n",
              "      padding: 0 0 0 0;\n",
              "      width: 32px;\n",
              "    }\n",
              "\n",
              "    .colab-df-convert:hover {\n",
              "      background-color: #E2EBFA;\n",
              "      box-shadow: 0px 1px 2px rgba(60, 64, 67, 0.3), 0px 1px 3px 1px rgba(60, 64, 67, 0.15);\n",
              "      fill: #174EA6;\n",
              "    }\n",
              "\n",
              "    .colab-df-buttons div {\n",
              "      margin-bottom: 4px;\n",
              "    }\n",
              "\n",
              "    [theme=dark] .colab-df-convert {\n",
              "      background-color: #3B4455;\n",
              "      fill: #D2E3FC;\n",
              "    }\n",
              "\n",
              "    [theme=dark] .colab-df-convert:hover {\n",
              "      background-color: #434B5C;\n",
              "      box-shadow: 0px 1px 3px 1px rgba(0, 0, 0, 0.15);\n",
              "      filter: drop-shadow(0px 1px 2px rgba(0, 0, 0, 0.3));\n",
              "      fill: #FFFFFF;\n",
              "    }\n",
              "  </style>\n",
              "\n",
              "    <script>\n",
              "      const buttonEl =\n",
              "        document.querySelector('#df-df7465d1-24e1-464e-8225-f044f32715df button.colab-df-convert');\n",
              "      buttonEl.style.display =\n",
              "        google.colab.kernel.accessAllowed ? 'block' : 'none';\n",
              "\n",
              "      async function convertToInteractive(key) {\n",
              "        const element = document.querySelector('#df-df7465d1-24e1-464e-8225-f044f32715df');\n",
              "        const dataTable =\n",
              "          await google.colab.kernel.invokeFunction('convertToInteractive',\n",
              "                                                    [key], {});\n",
              "        if (!dataTable) return;\n",
              "\n",
              "        const docLinkHtml = 'Like what you see? Visit the ' +\n",
              "          '<a target=\"_blank\" href=https://colab.research.google.com/notebooks/data_table.ipynb>data table notebook</a>'\n",
              "          + ' to learn more about interactive tables.';\n",
              "        element.innerHTML = '';\n",
              "        dataTable['output_type'] = 'display_data';\n",
              "        await google.colab.output.renderOutput(dataTable, element);\n",
              "        const docLink = document.createElement('div');\n",
              "        docLink.innerHTML = docLinkHtml;\n",
              "        element.appendChild(docLink);\n",
              "      }\n",
              "    </script>\n",
              "  </div>\n",
              "\n",
              "\n",
              "<div id=\"df-d86c8e3f-e0cd-4d1a-9a68-0f3f6020c135\">\n",
              "  <button class=\"colab-df-quickchart\" onclick=\"quickchart('df-d86c8e3f-e0cd-4d1a-9a68-0f3f6020c135')\"\n",
              "            title=\"Suggest charts\"\n",
              "            style=\"display:none;\">\n",
              "\n",
              "<svg xmlns=\"http://www.w3.org/2000/svg\" height=\"24px\"viewBox=\"0 0 24 24\"\n",
              "     width=\"24px\">\n",
              "    <g>\n",
              "        <path d=\"M19 3H5c-1.1 0-2 .9-2 2v14c0 1.1.9 2 2 2h14c1.1 0 2-.9 2-2V5c0-1.1-.9-2-2-2zM9 17H7v-7h2v7zm4 0h-2V7h2v10zm4 0h-2v-4h2v4z\"/>\n",
              "    </g>\n",
              "</svg>\n",
              "  </button>\n",
              "\n",
              "<style>\n",
              "  .colab-df-quickchart {\n",
              "      --bg-color: #E8F0FE;\n",
              "      --fill-color: #1967D2;\n",
              "      --hover-bg-color: #E2EBFA;\n",
              "      --hover-fill-color: #174EA6;\n",
              "      --disabled-fill-color: #AAA;\n",
              "      --disabled-bg-color: #DDD;\n",
              "  }\n",
              "\n",
              "  [theme=dark] .colab-df-quickchart {\n",
              "      --bg-color: #3B4455;\n",
              "      --fill-color: #D2E3FC;\n",
              "      --hover-bg-color: #434B5C;\n",
              "      --hover-fill-color: #FFFFFF;\n",
              "      --disabled-bg-color: #3B4455;\n",
              "      --disabled-fill-color: #666;\n",
              "  }\n",
              "\n",
              "  .colab-df-quickchart {\n",
              "    background-color: var(--bg-color);\n",
              "    border: none;\n",
              "    border-radius: 50%;\n",
              "    cursor: pointer;\n",
              "    display: none;\n",
              "    fill: var(--fill-color);\n",
              "    height: 32px;\n",
              "    padding: 0;\n",
              "    width: 32px;\n",
              "  }\n",
              "\n",
              "  .colab-df-quickchart:hover {\n",
              "    background-color: var(--hover-bg-color);\n",
              "    box-shadow: 0 1px 2px rgba(60, 64, 67, 0.3), 0 1px 3px 1px rgba(60, 64, 67, 0.15);\n",
              "    fill: var(--button-hover-fill-color);\n",
              "  }\n",
              "\n",
              "  .colab-df-quickchart-complete:disabled,\n",
              "  .colab-df-quickchart-complete:disabled:hover {\n",
              "    background-color: var(--disabled-bg-color);\n",
              "    fill: var(--disabled-fill-color);\n",
              "    box-shadow: none;\n",
              "  }\n",
              "\n",
              "  .colab-df-spinner {\n",
              "    border: 2px solid var(--fill-color);\n",
              "    border-color: transparent;\n",
              "    border-bottom-color: var(--fill-color);\n",
              "    animation:\n",
              "      spin 1s steps(1) infinite;\n",
              "  }\n",
              "\n",
              "  @keyframes spin {\n",
              "    0% {\n",
              "      border-color: transparent;\n",
              "      border-bottom-color: var(--fill-color);\n",
              "      border-left-color: var(--fill-color);\n",
              "    }\n",
              "    20% {\n",
              "      border-color: transparent;\n",
              "      border-left-color: var(--fill-color);\n",
              "      border-top-color: var(--fill-color);\n",
              "    }\n",
              "    30% {\n",
              "      border-color: transparent;\n",
              "      border-left-color: var(--fill-color);\n",
              "      border-top-color: var(--fill-color);\n",
              "      border-right-color: var(--fill-color);\n",
              "    }\n",
              "    40% {\n",
              "      border-color: transparent;\n",
              "      border-right-color: var(--fill-color);\n",
              "      border-top-color: var(--fill-color);\n",
              "    }\n",
              "    60% {\n",
              "      border-color: transparent;\n",
              "      border-right-color: var(--fill-color);\n",
              "    }\n",
              "    80% {\n",
              "      border-color: transparent;\n",
              "      border-right-color: var(--fill-color);\n",
              "      border-bottom-color: var(--fill-color);\n",
              "    }\n",
              "    90% {\n",
              "      border-color: transparent;\n",
              "      border-bottom-color: var(--fill-color);\n",
              "    }\n",
              "  }\n",
              "</style>\n",
              "\n",
              "  <script>\n",
              "    async function quickchart(key) {\n",
              "      const quickchartButtonEl =\n",
              "        document.querySelector('#' + key + ' button');\n",
              "      quickchartButtonEl.disabled = true;  // To prevent multiple clicks.\n",
              "      quickchartButtonEl.classList.add('colab-df-spinner');\n",
              "      try {\n",
              "        const charts = await google.colab.kernel.invokeFunction(\n",
              "            'suggestCharts', [key], {});\n",
              "      } catch (error) {\n",
              "        console.error('Error during call to suggestCharts:', error);\n",
              "      }\n",
              "      quickchartButtonEl.classList.remove('colab-df-spinner');\n",
              "      quickchartButtonEl.classList.add('colab-df-quickchart-complete');\n",
              "    }\n",
              "    (() => {\n",
              "      let quickchartButtonEl =\n",
              "        document.querySelector('#df-d86c8e3f-e0cd-4d1a-9a68-0f3f6020c135 button');\n",
              "      quickchartButtonEl.style.display =\n",
              "        google.colab.kernel.accessAllowed ? 'block' : 'none';\n",
              "    })();\n",
              "  </script>\n",
              "</div>\n",
              "\n",
              "  <div id=\"id_8df028dd-7e89-4a85-9e28-90ae13a47445\">\n",
              "    <style>\n",
              "      .colab-df-generate {\n",
              "        background-color: #E8F0FE;\n",
              "        border: none;\n",
              "        border-radius: 50%;\n",
              "        cursor: pointer;\n",
              "        display: none;\n",
              "        fill: #1967D2;\n",
              "        height: 32px;\n",
              "        padding: 0 0 0 0;\n",
              "        width: 32px;\n",
              "      }\n",
              "\n",
              "      .colab-df-generate:hover {\n",
              "        background-color: #E2EBFA;\n",
              "        box-shadow: 0px 1px 2px rgba(60, 64, 67, 0.3), 0px 1px 3px 1px rgba(60, 64, 67, 0.15);\n",
              "        fill: #174EA6;\n",
              "      }\n",
              "\n",
              "      [theme=dark] .colab-df-generate {\n",
              "        background-color: #3B4455;\n",
              "        fill: #D2E3FC;\n",
              "      }\n",
              "\n",
              "      [theme=dark] .colab-df-generate:hover {\n",
              "        background-color: #434B5C;\n",
              "        box-shadow: 0px 1px 3px 1px rgba(0, 0, 0, 0.15);\n",
              "        filter: drop-shadow(0px 1px 2px rgba(0, 0, 0, 0.3));\n",
              "        fill: #FFFFFF;\n",
              "      }\n",
              "    </style>\n",
              "    <button class=\"colab-df-generate\" onclick=\"generateWithVariable('df')\"\n",
              "            title=\"Generate code using this dataframe.\"\n",
              "            style=\"display:none;\">\n",
              "\n",
              "  <svg xmlns=\"http://www.w3.org/2000/svg\" height=\"24px\"viewBox=\"0 0 24 24\"\n",
              "       width=\"24px\">\n",
              "    <path d=\"M7,19H8.4L18.45,9,17,7.55,7,17.6ZM5,21V16.75L18.45,3.32a2,2,0,0,1,2.83,0l1.4,1.43a1.91,1.91,0,0,1,.58,1.4,1.91,1.91,0,0,1-.58,1.4L9.25,21ZM18.45,9,17,7.55Zm-12,3A5.31,5.31,0,0,0,4.9,8.1,5.31,5.31,0,0,0,1,6.5,5.31,5.31,0,0,0,4.9,4.9,5.31,5.31,0,0,0,6.5,1,5.31,5.31,0,0,0,8.1,4.9,5.31,5.31,0,0,0,12,6.5,5.46,5.46,0,0,0,6.5,12Z\"/>\n",
              "  </svg>\n",
              "    </button>\n",
              "    <script>\n",
              "      (() => {\n",
              "      const buttonEl =\n",
              "        document.querySelector('#id_8df028dd-7e89-4a85-9e28-90ae13a47445 button.colab-df-generate');\n",
              "      buttonEl.style.display =\n",
              "        google.colab.kernel.accessAllowed ? 'block' : 'none';\n",
              "\n",
              "      buttonEl.onclick = () => {\n",
              "        google.colab.notebook.generateWithVariable('df');\n",
              "      }\n",
              "      })();\n",
              "    </script>\n",
              "  </div>\n",
              "\n",
              "    </div>\n",
              "  </div>\n"
            ],
            "text/plain": [
              "         ReadingDateTime  SensorGLU\n",
              "0    2000-06-07 18:29:00      108.0\n",
              "1    2000-06-07 18:34:00      107.0\n",
              "2    2000-06-07 18:39:00      108.0\n",
              "3    2000-06-07 18:44:00      112.0\n",
              "4    2000-06-07 18:49:00      122.0\n",
              "..                   ...        ...\n",
              "303  2000-06-08 19:44:00      232.0\n",
              "304  2000-06-08 19:49:00      243.0\n",
              "305  2000-06-08 19:54:00      255.0\n",
              "306  2000-06-08 19:59:00      265.0\n",
              "307  2000-06-08 20:04:00      260.0\n",
              "\n",
              "[308 rows x 2 columns]"
            ]
          },
          "execution_count": 4,
          "metadata": {},
          "output_type": "execute_result"
        }
      ],
      "source": [
        "df"
      ]
    },
    {
      "cell_type": "code",
      "execution_count": 5,
      "metadata": {
        "colab": {
          "base_uri": "https://localhost:8080/"
        },
        "id": "ptUXst_F9JDS",
        "outputId": "ebecb766-e8ab-4e4b-a2ee-70bbb64c013a"
      },
      "outputs": [
        {
          "name": "stdout",
          "output_type": "stream",
          "text": [
            "[ 3.78261483  2.7186461   4.08007376  8.33963816  5.90902954  6.43880334\n",
            "  7.4961462   3.17898056  4.81212551  4.63104741  5.78431174  5.10621689\n",
            "  6.10992402  2.3020721   3.03318077  6.8412414   3.6231204  12.71284036\n",
            "  6.64382751  5.61499801  4.60501575  4.30198281  3.54023314  5.63894279\n",
            "  4.45963975  5.93140815  4.03382306  7.00769569  5.74485405  4.58312353\n",
            "  5.15642449  3.97463321  3.86556129  1.97245476  5.61133418  5.40545529\n",
            "  5.84064945  5.69394109  6.32839365  5.3924171   3.29970278  5.89578497\n",
            "  3.81788526  5.04451101  3.46706903  4.08012718  5.24439684  4.7375265\n",
            "  6.8882062   3.23510103  5.22098525  8.39642458  2.33220649  4.84145468\n",
            "  4.06464409  3.73758592  8.50099887  7.36128995  5.25735076  4.74002012\n",
            "  7.75793631  6.68162544  4.84796703  6.60457481  4.22654754  4.07496947\n",
            "  4.69667955  5.84027005  5.61466493  5.28755025  4.38913528  5.76932879\n",
            "  6.63773065  6.8153543   4.74366372  4.46310605  4.12742213  7.69362834\n",
            "  4.73496767]\n"
          ]
        }
      ],
      "source": [
        "print(vertical_MAE)"
      ]
    },
    {
      "cell_type": "code",
      "execution_count": 6,
      "metadata": {
        "colab": {
          "base_uri": "https://localhost:8080/"
        },
        "id": "cJazgf4NOn8g",
        "outputId": "adf87df0-a308-4fec-8fdb-5742b2c6eb84"
      },
      "outputs": [
        {
          "data": {
            "text/plain": [
              "5.106216890954415"
            ]
          },
          "execution_count": 6,
          "metadata": {},
          "output_type": "execute_result"
        }
      ],
      "source": [
        "np.median(vertical_MAE)"
      ]
    },
    {
      "cell_type": "code",
      "execution_count": 7,
      "metadata": {
        "colab": {
          "base_uri": "https://localhost:8080/"
        },
        "id": "8tzLbeue9JDT",
        "outputId": "9669e156-8f5a-4df4-9e9e-5a34e275b663"
      },
      "outputs": [
        {
          "data": {
            "text/plain": [
              "79"
            ]
          },
          "execution_count": 7,
          "metadata": {},
          "output_type": "execute_result"
        }
      ],
      "source": [
        "len(vertical_MAE)"
      ]
    },
    {
      "cell_type": "code",
      "execution_count": 8,
      "metadata": {
        "colab": {
          "base_uri": "https://localhost:8080/"
        },
        "id": "DhEsnVRGKLWe",
        "outputId": "88ac7d3e-7f2a-460d-b79b-0a5d6700733c"
      },
      "outputs": [
        {
          "data": {
            "text/plain": [
              "array([ 5.53209634,  3.82223837,  5.41690999, 11.5372017 ,  8.04779415,\n",
              "        8.59714862,  9.94052903,  4.42225662,  7.7062573 ,  5.57515347,\n",
              "        8.31610118,  6.56042622,  9.50977251,  3.17105316,  3.76466455,\n",
              "       10.87007464,  4.89984669, 16.24682675,  9.28922877,  7.53795882,\n",
              "        6.76251897,  5.7584857 ,  5.19299568,  7.12651165,  6.06647871,\n",
              "        8.03329493,  5.64145058,  8.8625764 ,  8.93855892,  5.76979508,\n",
              "        7.36099297,  5.39310086,  5.88051557,  3.02313628,  8.10896885,\n",
              "        8.17098899,  7.50624185,  7.50029364,  8.78896608,  7.10990264,\n",
              "        4.80439374,  8.94489208,  5.3742555 ,  6.97217734,  4.79676506,\n",
              "        6.85459551,  7.6643764 ,  6.18492537,  9.46965027,  3.96929577,\n",
              "        6.38745372, 10.93800766,  3.14578152,  6.52094792,  5.70091635,\n",
              "        4.50538827, 10.64598068, 11.36445296,  6.98282287,  7.2023937 ,\n",
              "       10.18003863,  9.39178389,  7.90874695,  8.68529777,  5.22805586,\n",
              "        5.2352876 ,  7.01002571,  8.09524635,  7.7490995 ,  6.7348049 ,\n",
              "        6.10065928,  9.93068127, 11.1072018 ,  9.55274255,  7.06536835,\n",
              "        6.26988081,  5.72393241, 10.24702837,  6.18273793])"
            ]
          },
          "execution_count": 8,
          "metadata": {},
          "output_type": "execute_result"
        }
      ],
      "source": [
        "vertical_RMSE"
      ]
    },
    {
      "cell_type": "code",
      "execution_count": 9,
      "metadata": {
        "colab": {
          "base_uri": "https://localhost:8080/"
        },
        "id": "ccRAY_COO87B",
        "outputId": "1ab74e46-687f-4585-ce53-b5fdf061e6e5"
      },
      "outputs": [
        {
          "data": {
            "text/plain": [
              "7.065368346488963"
            ]
          },
          "execution_count": 9,
          "metadata": {},
          "output_type": "execute_result"
        }
      ],
      "source": [
        "np.median(vertical_RMSE)"
      ]
    },
    {
      "cell_type": "code",
      "execution_count": 10,
      "metadata": {
        "colab": {
          "base_uri": "https://localhost:8080/"
        },
        "id": "97zLn9kVMPpE",
        "outputId": "cf654efb-5a58-437a-8908-fbd07b0844ef"
      },
      "outputs": [
        {
          "data": {
            "text/plain": [
              "0.9765486370827423"
            ]
          },
          "execution_count": 10,
          "metadata": {},
          "output_type": "execute_result"
        }
      ],
      "source": [
        "model.score(X_test,y_test)"
      ]
    },
    {
      "cell_type": "code",
      "execution_count": 11,
      "metadata": {
        "id": "D67nTwN2EQ5L"
      },
      "outputs": [],
      "source": [
        "import csv\n",
        "\n",
        "\n",
        "test = pd.DataFrame({\"MAE\": vertical_MAE, \"RMSE\": vertical_RMSE, \"MMRE\": vertical_MMRE, \"PRED\": vertical_PRED})\n",
        "test.to_csv(r'/content/Patient_result_SVR_5_part2.csv', index=False)"
      ]
    }
  ],
  "metadata": {
    "colab": {
      "provenance": []
    },
    "kaggle": {
      "accelerator": "nvidiaTeslaT4",
      "dataSources": [
        {
          "datasetId": 5430803,
          "sourceId": 9013403,
          "sourceType": "datasetVersion"
        }
      ],
      "dockerImageVersionId": 30747,
      "isGpuEnabled": true,
      "isInternetEnabled": true,
      "language": "python",
      "sourceType": "notebook"
    },
    "kernelspec": {
      "display_name": "Python 3",
      "name": "python3"
    },
    "language_info": {
      "codemirror_mode": {
        "name": "ipython",
        "version": 3
      },
      "file_extension": ".py",
      "mimetype": "text/x-python",
      "name": "python",
      "nbconvert_exporter": "python",
      "pygments_lexer": "ipython3",
      "version": "3.10.13"
    }
  },
  "nbformat": 4,
  "nbformat_minor": 0
}
