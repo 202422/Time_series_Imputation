{
  "cells": [
    {
      "cell_type": "code",
      "execution_count": null,
      "metadata": {
        "id": "h3_J5EH6SYLW"
      },
      "outputs": [],
      "source": [
        "import pandas as pd\n",
        "import random\n",
        "import numpy as np"
      ]
    },
    {
      "cell_type": "code",
      "execution_count": null,
      "metadata": {
        "id": "8m7WXq90KBIy"
      },
      "outputs": [],
      "source": [
        "def to_sequence(data, seq_size=10):\n",
        "    x, y = [], []\n",
        "\n",
        "    for i in range(len(data)-seq_size):\n",
        "        window = data[i:(i+seq_size)].values\n",
        "        after_window = data[i+seq_size]\n",
        "        x.append(window)\n",
        "        y.append(after_window)\n",
        "\n",
        "    return np.array(x), np.array(y)"
      ]
    },
    {
      "cell_type": "code",
      "execution_count": 3,
      "metadata": {
        "colab": {
          "base_uri": "https://localhost:8080/"
        },
        "id": "Bth6Wl2yHuj9",
        "outputId": "b9d7055f-a16d-446c-9fbd-8d1b63b0c10b"
      },
      "outputs": [
        {
          "output_type": "stream",
          "name": "stdout",
          "text": [
            "80\n",
            "81\n",
            "82\n",
            "83\n",
            "84\n",
            "85\n",
            "86\n",
            "87\n",
            "88\n",
            "89\n",
            "90\n",
            "91\n",
            "92\n",
            "93\n",
            "94\n",
            "95\n",
            "96\n",
            "97\n",
            "98\n",
            "99\n",
            "100\n",
            "101\n",
            "102\n"
          ]
        }
      ],
      "source": [
        "import numpy as np\n",
        "import tensorflow as tf\n",
        "from sklearn.model_selection import train_test_split\n",
        "from sklearn.metrics import mean_squared_error\n",
        "import pandas as pd\n",
        "from sklearn.svm import SVR\n",
        "from sklearn.metrics import *\n",
        "\n",
        "df_1 = pd.read_csv('/content/Patient_result_SVR_5_part2.csv')\n",
        "\n",
        "vertical_MAE = df_1['MAE'].values\n",
        "vertical_MSE= np.power(df_1[\"RMSE\"].values,2)\n",
        "vertical_RMSE= df_1[\"RMSE\"].values\n",
        "vertical_MRE= df_1[\"MMRE\"].values\n",
        "vertical_MMRE= df_1[\"MMRE\"].values\n",
        "vertical_PRED= df_1[\"PRED\"].values\n",
        "\n",
        "for j in range(80,103):\n",
        "  # Read csv file into a pandas dataframe\n",
        "  df = pd.read_csv(f'/content/Patient_{j}.csv')\n",
        "  print(j)\n",
        "\n",
        "  for i in range(len(df)):\n",
        "    if np.isnan(df.at[i,'SensorGLU']):\n",
        "      X, y = to_sequence(df[:i-1].SensorGLU)\n",
        "      X_train, X_test, y_train, y_test = train_test_split(X, y, test_size=0.2)\n",
        "      # Create a SVR model\n",
        "      model = SVR(kernel='linear',gamma='auto', C=50, epsilon = 0.1)\n",
        "      # Train the model\n",
        "      model.fit(X_train, y_train)\n",
        "      # Make imputation\n",
        "      df.at[i,'SensorGLU']= model.predict((df.loc[i-10:i-1, \"SensorGLU\"].values).reshape(1,10))\n",
        "\n",
        "\n",
        "  # Model Assessing\n",
        "  pred = model.predict(X_test)\n",
        "  vertical_MAE =np.append(vertical_MAE , mean_absolute_error(y_test,pred))\n",
        "  vertical_MSE =np.append(vertical_MSE , mean_squared_error(y_test,pred))\n",
        "  vertical_RMSE =np.append(vertical_RMSE , np.sqrt(mean_squared_error(y_test,pred)))\n",
        "  vertical_MRE = np.append(vertical_MRE , np.abs((y_test-pred)/y_test)*100)\n",
        "  vertical_MMRE = np.append(vertical_MMRE , np.mean(np.abs((y_test-pred)/y_test)*100))\n",
        "  Pred = lambda p: len(vertical_MRE[vertical_MRE <= p])/len(vertical_MRE)*100\n",
        "  PRED = Pred(25)\n",
        "  vertical_PRED =np.append(vertical_PRED , PRED)"
      ]
    },
    {
      "cell_type": "code",
      "execution_count": 4,
      "metadata": {
        "id": "q2Y8sQNhUmPL",
        "colab": {
          "base_uri": "https://localhost:8080/",
          "height": 424
        },
        "outputId": "a04c0e6b-1c35-4ec8-dbc4-87f23fb98d58"
      },
      "outputs": [
        {
          "output_type": "execute_result",
          "data": {
            "text/plain": [
              "         ReadingDateTime  SensorGLU\n",
              "0    2000-05-25 17:15:00       97.0\n",
              "1    2000-05-25 17:20:00       97.0\n",
              "2    2000-05-25 17:25:00      107.0\n",
              "3    2000-05-25 17:30:00      119.0\n",
              "4    2000-05-25 17:35:00      132.0\n",
              "..                   ...        ...\n",
              "251  2000-05-26 14:10:00      100.0\n",
              "252  2000-05-26 14:15:00       96.0\n",
              "253  2000-05-26 14:20:00       93.0\n",
              "254  2000-05-26 14:25:00       88.0\n",
              "255  2000-05-26 14:30:00       82.0\n",
              "\n",
              "[256 rows x 2 columns]"
            ],
            "text/html": [
              "\n",
              "  <div id=\"df-843319a8-b03c-4b13-b1a8-360edee151bc\" class=\"colab-df-container\">\n",
              "    <div>\n",
              "<style scoped>\n",
              "    .dataframe tbody tr th:only-of-type {\n",
              "        vertical-align: middle;\n",
              "    }\n",
              "\n",
              "    .dataframe tbody tr th {\n",
              "        vertical-align: top;\n",
              "    }\n",
              "\n",
              "    .dataframe thead th {\n",
              "        text-align: right;\n",
              "    }\n",
              "</style>\n",
              "<table border=\"1\" class=\"dataframe\">\n",
              "  <thead>\n",
              "    <tr style=\"text-align: right;\">\n",
              "      <th></th>\n",
              "      <th>ReadingDateTime</th>\n",
              "      <th>SensorGLU</th>\n",
              "    </tr>\n",
              "  </thead>\n",
              "  <tbody>\n",
              "    <tr>\n",
              "      <th>0</th>\n",
              "      <td>2000-05-25 17:15:00</td>\n",
              "      <td>97.0</td>\n",
              "    </tr>\n",
              "    <tr>\n",
              "      <th>1</th>\n",
              "      <td>2000-05-25 17:20:00</td>\n",
              "      <td>97.0</td>\n",
              "    </tr>\n",
              "    <tr>\n",
              "      <th>2</th>\n",
              "      <td>2000-05-25 17:25:00</td>\n",
              "      <td>107.0</td>\n",
              "    </tr>\n",
              "    <tr>\n",
              "      <th>3</th>\n",
              "      <td>2000-05-25 17:30:00</td>\n",
              "      <td>119.0</td>\n",
              "    </tr>\n",
              "    <tr>\n",
              "      <th>4</th>\n",
              "      <td>2000-05-25 17:35:00</td>\n",
              "      <td>132.0</td>\n",
              "    </tr>\n",
              "    <tr>\n",
              "      <th>...</th>\n",
              "      <td>...</td>\n",
              "      <td>...</td>\n",
              "    </tr>\n",
              "    <tr>\n",
              "      <th>251</th>\n",
              "      <td>2000-05-26 14:10:00</td>\n",
              "      <td>100.0</td>\n",
              "    </tr>\n",
              "    <tr>\n",
              "      <th>252</th>\n",
              "      <td>2000-05-26 14:15:00</td>\n",
              "      <td>96.0</td>\n",
              "    </tr>\n",
              "    <tr>\n",
              "      <th>253</th>\n",
              "      <td>2000-05-26 14:20:00</td>\n",
              "      <td>93.0</td>\n",
              "    </tr>\n",
              "    <tr>\n",
              "      <th>254</th>\n",
              "      <td>2000-05-26 14:25:00</td>\n",
              "      <td>88.0</td>\n",
              "    </tr>\n",
              "    <tr>\n",
              "      <th>255</th>\n",
              "      <td>2000-05-26 14:30:00</td>\n",
              "      <td>82.0</td>\n",
              "    </tr>\n",
              "  </tbody>\n",
              "</table>\n",
              "<p>256 rows × 2 columns</p>\n",
              "</div>\n",
              "    <div class=\"colab-df-buttons\">\n",
              "\n",
              "  <div class=\"colab-df-container\">\n",
              "    <button class=\"colab-df-convert\" onclick=\"convertToInteractive('df-843319a8-b03c-4b13-b1a8-360edee151bc')\"\n",
              "            title=\"Convert this dataframe to an interactive table.\"\n",
              "            style=\"display:none;\">\n",
              "\n",
              "  <svg xmlns=\"http://www.w3.org/2000/svg\" height=\"24px\" viewBox=\"0 -960 960 960\">\n",
              "    <path d=\"M120-120v-720h720v720H120Zm60-500h600v-160H180v160Zm220 220h160v-160H400v160Zm0 220h160v-160H400v160ZM180-400h160v-160H180v160Zm440 0h160v-160H620v160ZM180-180h160v-160H180v160Zm440 0h160v-160H620v160Z\"/>\n",
              "  </svg>\n",
              "    </button>\n",
              "\n",
              "  <style>\n",
              "    .colab-df-container {\n",
              "      display:flex;\n",
              "      gap: 12px;\n",
              "    }\n",
              "\n",
              "    .colab-df-convert {\n",
              "      background-color: #E8F0FE;\n",
              "      border: none;\n",
              "      border-radius: 50%;\n",
              "      cursor: pointer;\n",
              "      display: none;\n",
              "      fill: #1967D2;\n",
              "      height: 32px;\n",
              "      padding: 0 0 0 0;\n",
              "      width: 32px;\n",
              "    }\n",
              "\n",
              "    .colab-df-convert:hover {\n",
              "      background-color: #E2EBFA;\n",
              "      box-shadow: 0px 1px 2px rgba(60, 64, 67, 0.3), 0px 1px 3px 1px rgba(60, 64, 67, 0.15);\n",
              "      fill: #174EA6;\n",
              "    }\n",
              "\n",
              "    .colab-df-buttons div {\n",
              "      margin-bottom: 4px;\n",
              "    }\n",
              "\n",
              "    [theme=dark] .colab-df-convert {\n",
              "      background-color: #3B4455;\n",
              "      fill: #D2E3FC;\n",
              "    }\n",
              "\n",
              "    [theme=dark] .colab-df-convert:hover {\n",
              "      background-color: #434B5C;\n",
              "      box-shadow: 0px 1px 3px 1px rgba(0, 0, 0, 0.15);\n",
              "      filter: drop-shadow(0px 1px 2px rgba(0, 0, 0, 0.3));\n",
              "      fill: #FFFFFF;\n",
              "    }\n",
              "  </style>\n",
              "\n",
              "    <script>\n",
              "      const buttonEl =\n",
              "        document.querySelector('#df-843319a8-b03c-4b13-b1a8-360edee151bc button.colab-df-convert');\n",
              "      buttonEl.style.display =\n",
              "        google.colab.kernel.accessAllowed ? 'block' : 'none';\n",
              "\n",
              "      async function convertToInteractive(key) {\n",
              "        const element = document.querySelector('#df-843319a8-b03c-4b13-b1a8-360edee151bc');\n",
              "        const dataTable =\n",
              "          await google.colab.kernel.invokeFunction('convertToInteractive',\n",
              "                                                    [key], {});\n",
              "        if (!dataTable) return;\n",
              "\n",
              "        const docLinkHtml = 'Like what you see? Visit the ' +\n",
              "          '<a target=\"_blank\" href=https://colab.research.google.com/notebooks/data_table.ipynb>data table notebook</a>'\n",
              "          + ' to learn more about interactive tables.';\n",
              "        element.innerHTML = '';\n",
              "        dataTable['output_type'] = 'display_data';\n",
              "        await google.colab.output.renderOutput(dataTable, element);\n",
              "        const docLink = document.createElement('div');\n",
              "        docLink.innerHTML = docLinkHtml;\n",
              "        element.appendChild(docLink);\n",
              "      }\n",
              "    </script>\n",
              "  </div>\n",
              "\n",
              "\n",
              "<div id=\"df-b626755a-3883-4c80-b1a8-eeb244b674d4\">\n",
              "  <button class=\"colab-df-quickchart\" onclick=\"quickchart('df-b626755a-3883-4c80-b1a8-eeb244b674d4')\"\n",
              "            title=\"Suggest charts\"\n",
              "            style=\"display:none;\">\n",
              "\n",
              "<svg xmlns=\"http://www.w3.org/2000/svg\" height=\"24px\"viewBox=\"0 0 24 24\"\n",
              "     width=\"24px\">\n",
              "    <g>\n",
              "        <path d=\"M19 3H5c-1.1 0-2 .9-2 2v14c0 1.1.9 2 2 2h14c1.1 0 2-.9 2-2V5c0-1.1-.9-2-2-2zM9 17H7v-7h2v7zm4 0h-2V7h2v10zm4 0h-2v-4h2v4z\"/>\n",
              "    </g>\n",
              "</svg>\n",
              "  </button>\n",
              "\n",
              "<style>\n",
              "  .colab-df-quickchart {\n",
              "      --bg-color: #E8F0FE;\n",
              "      --fill-color: #1967D2;\n",
              "      --hover-bg-color: #E2EBFA;\n",
              "      --hover-fill-color: #174EA6;\n",
              "      --disabled-fill-color: #AAA;\n",
              "      --disabled-bg-color: #DDD;\n",
              "  }\n",
              "\n",
              "  [theme=dark] .colab-df-quickchart {\n",
              "      --bg-color: #3B4455;\n",
              "      --fill-color: #D2E3FC;\n",
              "      --hover-bg-color: #434B5C;\n",
              "      --hover-fill-color: #FFFFFF;\n",
              "      --disabled-bg-color: #3B4455;\n",
              "      --disabled-fill-color: #666;\n",
              "  }\n",
              "\n",
              "  .colab-df-quickchart {\n",
              "    background-color: var(--bg-color);\n",
              "    border: none;\n",
              "    border-radius: 50%;\n",
              "    cursor: pointer;\n",
              "    display: none;\n",
              "    fill: var(--fill-color);\n",
              "    height: 32px;\n",
              "    padding: 0;\n",
              "    width: 32px;\n",
              "  }\n",
              "\n",
              "  .colab-df-quickchart:hover {\n",
              "    background-color: var(--hover-bg-color);\n",
              "    box-shadow: 0 1px 2px rgba(60, 64, 67, 0.3), 0 1px 3px 1px rgba(60, 64, 67, 0.15);\n",
              "    fill: var(--button-hover-fill-color);\n",
              "  }\n",
              "\n",
              "  .colab-df-quickchart-complete:disabled,\n",
              "  .colab-df-quickchart-complete:disabled:hover {\n",
              "    background-color: var(--disabled-bg-color);\n",
              "    fill: var(--disabled-fill-color);\n",
              "    box-shadow: none;\n",
              "  }\n",
              "\n",
              "  .colab-df-spinner {\n",
              "    border: 2px solid var(--fill-color);\n",
              "    border-color: transparent;\n",
              "    border-bottom-color: var(--fill-color);\n",
              "    animation:\n",
              "      spin 1s steps(1) infinite;\n",
              "  }\n",
              "\n",
              "  @keyframes spin {\n",
              "    0% {\n",
              "      border-color: transparent;\n",
              "      border-bottom-color: var(--fill-color);\n",
              "      border-left-color: var(--fill-color);\n",
              "    }\n",
              "    20% {\n",
              "      border-color: transparent;\n",
              "      border-left-color: var(--fill-color);\n",
              "      border-top-color: var(--fill-color);\n",
              "    }\n",
              "    30% {\n",
              "      border-color: transparent;\n",
              "      border-left-color: var(--fill-color);\n",
              "      border-top-color: var(--fill-color);\n",
              "      border-right-color: var(--fill-color);\n",
              "    }\n",
              "    40% {\n",
              "      border-color: transparent;\n",
              "      border-right-color: var(--fill-color);\n",
              "      border-top-color: var(--fill-color);\n",
              "    }\n",
              "    60% {\n",
              "      border-color: transparent;\n",
              "      border-right-color: var(--fill-color);\n",
              "    }\n",
              "    80% {\n",
              "      border-color: transparent;\n",
              "      border-right-color: var(--fill-color);\n",
              "      border-bottom-color: var(--fill-color);\n",
              "    }\n",
              "    90% {\n",
              "      border-color: transparent;\n",
              "      border-bottom-color: var(--fill-color);\n",
              "    }\n",
              "  }\n",
              "</style>\n",
              "\n",
              "  <script>\n",
              "    async function quickchart(key) {\n",
              "      const quickchartButtonEl =\n",
              "        document.querySelector('#' + key + ' button');\n",
              "      quickchartButtonEl.disabled = true;  // To prevent multiple clicks.\n",
              "      quickchartButtonEl.classList.add('colab-df-spinner');\n",
              "      try {\n",
              "        const charts = await google.colab.kernel.invokeFunction(\n",
              "            'suggestCharts', [key], {});\n",
              "      } catch (error) {\n",
              "        console.error('Error during call to suggestCharts:', error);\n",
              "      }\n",
              "      quickchartButtonEl.classList.remove('colab-df-spinner');\n",
              "      quickchartButtonEl.classList.add('colab-df-quickchart-complete');\n",
              "    }\n",
              "    (() => {\n",
              "      let quickchartButtonEl =\n",
              "        document.querySelector('#df-b626755a-3883-4c80-b1a8-eeb244b674d4 button');\n",
              "      quickchartButtonEl.style.display =\n",
              "        google.colab.kernel.accessAllowed ? 'block' : 'none';\n",
              "    })();\n",
              "  </script>\n",
              "</div>\n",
              "\n",
              "  <div id=\"id_3af4c9bb-5039-40bb-be14-5cf5f8c70256\">\n",
              "    <style>\n",
              "      .colab-df-generate {\n",
              "        background-color: #E8F0FE;\n",
              "        border: none;\n",
              "        border-radius: 50%;\n",
              "        cursor: pointer;\n",
              "        display: none;\n",
              "        fill: #1967D2;\n",
              "        height: 32px;\n",
              "        padding: 0 0 0 0;\n",
              "        width: 32px;\n",
              "      }\n",
              "\n",
              "      .colab-df-generate:hover {\n",
              "        background-color: #E2EBFA;\n",
              "        box-shadow: 0px 1px 2px rgba(60, 64, 67, 0.3), 0px 1px 3px 1px rgba(60, 64, 67, 0.15);\n",
              "        fill: #174EA6;\n",
              "      }\n",
              "\n",
              "      [theme=dark] .colab-df-generate {\n",
              "        background-color: #3B4455;\n",
              "        fill: #D2E3FC;\n",
              "      }\n",
              "\n",
              "      [theme=dark] .colab-df-generate:hover {\n",
              "        background-color: #434B5C;\n",
              "        box-shadow: 0px 1px 3px 1px rgba(0, 0, 0, 0.15);\n",
              "        filter: drop-shadow(0px 1px 2px rgba(0, 0, 0, 0.3));\n",
              "        fill: #FFFFFF;\n",
              "      }\n",
              "    </style>\n",
              "    <button class=\"colab-df-generate\" onclick=\"generateWithVariable('df')\"\n",
              "            title=\"Generate code using this dataframe.\"\n",
              "            style=\"display:none;\">\n",
              "\n",
              "  <svg xmlns=\"http://www.w3.org/2000/svg\" height=\"24px\"viewBox=\"0 0 24 24\"\n",
              "       width=\"24px\">\n",
              "    <path d=\"M7,19H8.4L18.45,9,17,7.55,7,17.6ZM5,21V16.75L18.45,3.32a2,2,0,0,1,2.83,0l1.4,1.43a1.91,1.91,0,0,1,.58,1.4,1.91,1.91,0,0,1-.58,1.4L9.25,21ZM18.45,9,17,7.55Zm-12,3A5.31,5.31,0,0,0,4.9,8.1,5.31,5.31,0,0,0,1,6.5,5.31,5.31,0,0,0,4.9,4.9,5.31,5.31,0,0,0,6.5,1,5.31,5.31,0,0,0,8.1,4.9,5.31,5.31,0,0,0,12,6.5,5.46,5.46,0,0,0,6.5,12Z\"/>\n",
              "  </svg>\n",
              "    </button>\n",
              "    <script>\n",
              "      (() => {\n",
              "      const buttonEl =\n",
              "        document.querySelector('#id_3af4c9bb-5039-40bb-be14-5cf5f8c70256 button.colab-df-generate');\n",
              "      buttonEl.style.display =\n",
              "        google.colab.kernel.accessAllowed ? 'block' : 'none';\n",
              "\n",
              "      buttonEl.onclick = () => {\n",
              "        google.colab.notebook.generateWithVariable('df');\n",
              "      }\n",
              "      })();\n",
              "    </script>\n",
              "  </div>\n",
              "\n",
              "    </div>\n",
              "  </div>\n"
            ],
            "application/vnd.google.colaboratory.intrinsic+json": {
              "type": "dataframe",
              "variable_name": "df",
              "summary": "{\n  \"name\": \"df\",\n  \"rows\": 256,\n  \"fields\": [\n    {\n      \"column\": \"ReadingDateTime\",\n      \"properties\": {\n        \"dtype\": \"object\",\n        \"num_unique_values\": 256,\n        \"samples\": [\n          \"2000-05-26 12:15:00\",\n          \"2000-05-25 17:45:00\",\n          \"2000-05-25 23:50:00\"\n        ],\n        \"semantic_type\": \"\",\n        \"description\": \"\"\n      }\n    },\n    {\n      \"column\": \"SensorGLU\",\n      \"properties\": {\n        \"dtype\": \"number\",\n        \"std\": 19.39195335220056,\n        \"min\": 74.0,\n        \"max\": 172.0,\n        \"num_unique_values\": 92,\n        \"samples\": [\n          156.0,\n          145.0,\n          121.01037037666995\n        ],\n        \"semantic_type\": \"\",\n        \"description\": \"\"\n      }\n    }\n  ]\n}"
            }
          },
          "metadata": {},
          "execution_count": 4
        }
      ],
      "source": [
        "df"
      ]
    },
    {
      "cell_type": "code",
      "execution_count": 5,
      "metadata": {
        "id": "ptUXst_F9JDS",
        "colab": {
          "base_uri": "https://localhost:8080/"
        },
        "outputId": "95d9ac8d-bf2f-47e3-ab97-a74d7d9da8cf"
      },
      "outputs": [
        {
          "output_type": "stream",
          "name": "stdout",
          "text": [
            "[ 4.21845845  3.12574051  4.96558339  8.03545026  7.91580256  7.72935092\n",
            "  7.37418098  2.85204096  5.18269043  4.18057944  4.19014025  5.90654273\n",
            "  5.91483585  3.61566361  3.30585783  6.0514585   3.58953026 11.3654356\n",
            "  8.34585559  5.68393948  4.61736081  5.25357164  3.68607531  5.69821003\n",
            "  6.75359985  7.27228438  6.21939727  6.81466532  5.89292605  3.69511816\n",
            "  4.19179727  4.54538872  4.33782216  2.27357104  5.41251095  5.75113058\n",
            "  5.35544781  5.80581647  6.42421124  6.01872524  3.7598915   5.86837586\n",
            "  4.18173316  5.41034006  3.98414388  4.25515131 16.11319001  6.16117511\n",
            "  6.22436811  3.39313243  5.76000239  8.29731452  3.19621028  6.33175366\n",
            "  4.85576983  3.76646257 10.28271825  6.70298088  5.2987101   5.81945669\n",
            "  9.85643793  6.22362687  5.36190273  6.50183346  4.0510505   4.26578707\n",
            "  6.59299227  6.15263325  6.43707096  5.21065258  6.7694857   6.73725374\n",
            "  9.01071815  5.37015821  6.07281935  4.2787627   5.09864551  7.85612825\n",
            "  5.22508472  7.24119655  4.54879344  4.08255244  8.47327568  4.6685459\n",
            "  7.3904976   5.44428146  4.31978701  7.376329   23.88574704  6.58532626\n",
            "  7.81797239  5.49413408  6.69685455  7.20439107  6.15233486  3.84352677\n",
            "  4.15777565  6.28754527  7.95785633  3.52936818  4.38229959  3.84650713]\n"
          ]
        }
      ],
      "source": [
        "print(vertical_MAE)"
      ]
    },
    {
      "cell_type": "code",
      "execution_count": 6,
      "metadata": {
        "id": "cJazgf4NOn8g",
        "colab": {
          "base_uri": "https://localhost:8080/"
        },
        "outputId": "de4c696b-1f70-40cb-db85-a5e1344a7fe7"
      },
      "outputs": [
        {
          "output_type": "execute_result",
          "data": {
            "text/plain": [
              "5.724670306044734"
            ]
          },
          "metadata": {},
          "execution_count": 6
        }
      ],
      "source": [
        "np.median(vertical_MAE)"
      ]
    },
    {
      "cell_type": "code",
      "execution_count": 7,
      "metadata": {
        "id": "8tzLbeue9JDT",
        "colab": {
          "base_uri": "https://localhost:8080/"
        },
        "outputId": "49e668a0-e3ab-41e2-cc27-88083daa2192"
      },
      "outputs": [
        {
          "output_type": "execute_result",
          "data": {
            "text/plain": [
              "102"
            ]
          },
          "metadata": {},
          "execution_count": 7
        }
      ],
      "source": [
        "len(vertical_MAE)"
      ]
    },
    {
      "cell_type": "code",
      "execution_count": 8,
      "metadata": {
        "id": "DhEsnVRGKLWe",
        "colab": {
          "base_uri": "https://localhost:8080/"
        },
        "outputId": "e6b8af37-39f0-418a-a992-bcb1012b9b4f"
      },
      "outputs": [
        {
          "output_type": "execute_result",
          "data": {
            "text/plain": [
              "array([ 6.22004924,  4.34322596,  6.44103686, 11.50791728, 10.3131456 ,\n",
              "        9.87292017,  9.24507422,  3.95092488,  7.46006337,  5.14663219,\n",
              "        6.33224619,  7.62934896,  8.14287921,  4.68876549,  4.18622941,\n",
              "        7.89067898,  4.91481911, 15.52636858, 11.07638945,  7.58146935,\n",
              "        6.06133896,  6.99209357,  5.54304174,  7.38068266, 10.14161769,\n",
              "        9.18979453,  9.32103575,  8.6282532 ,  9.63202161,  4.95521809,\n",
              "        5.9636108 ,  6.34762472,  5.92624194,  3.26881469,  7.14253812,\n",
              "        7.91487453,  7.15658169,  7.41976006,  8.53863785,  7.65396349,\n",
              "        4.83349077,  8.21975507,  5.39527438,  7.22758289,  5.29321999,\n",
              "        6.30797377, 20.0019838 ,  8.11673942,  7.79784251,  4.32427739,\n",
              "        7.70443591, 10.49818563,  3.88853414,  8.57432069,  6.29167404,\n",
              "        5.03682586, 13.95993244, 10.08815383,  6.94659583,  8.57940929,\n",
              "       13.00282737,  9.66612946,  8.17461723,  8.58258874,  6.41297985,\n",
              "        5.50973551,  8.63758255,  7.95912007,  8.17203701,  6.56358811,\n",
              "        9.60251847,  8.02821563, 13.05285443,  6.71981591,  8.64062667,\n",
              "        6.19183617,  6.13382334, 10.14949424,  8.10499912,  9.25349614,\n",
              "        6.58884426,  5.15252292, 10.30022587,  6.19112758, 10.83112677,\n",
              "        7.15164991,  5.43457676,  9.75414319, 29.724488  ,  9.44252423,\n",
              "       11.21325503,  7.68957259,  9.23898188,  9.39404872,  8.73394912,\n",
              "        5.41478582,  5.27111972,  7.414024  , 10.73207709,  4.69642811,\n",
              "        5.67610645,  4.89199364])"
            ]
          },
          "metadata": {},
          "execution_count": 8
        }
      ],
      "source": [
        "vertical_RMSE"
      ]
    },
    {
      "cell_type": "code",
      "execution_count": 9,
      "metadata": {
        "id": "ccRAY_COO87B",
        "colab": {
          "base_uri": "https://localhost:8080/"
        },
        "outputId": "c5d10a7b-7e50-41c8-d9b5-5174bd099d4e"
      },
      "outputs": [
        {
          "data": {
            "text/plain": [
              "7.641656226930271"
            ]
          },
          "execution_count": 9,
          "metadata": {},
          "output_type": "execute_result"
        }
      ],
      "source": [
        "np.median(vertical_RMSE)"
      ]
    },
    {
      "cell_type": "code",
      "execution_count": 10,
      "metadata": {
        "id": "97zLn9kVMPpE",
        "colab": {
          "base_uri": "https://localhost:8080/"
        },
        "outputId": "5d15aab6-e9e0-4999-b218-a9bf95bee96f"
      },
      "outputs": [
        {
          "output_type": "execute_result",
          "data": {
            "text/plain": [
              "0.9091362385050059"
            ]
          },
          "metadata": {},
          "execution_count": 10
        }
      ],
      "source": [
        "model.score(X_test,y_test)"
      ]
    },
    {
      "cell_type": "code",
      "execution_count": 11,
      "metadata": {
        "id": "D67nTwN2EQ5L"
      },
      "outputs": [],
      "source": [
        "import csv\n",
        "\n",
        "\n",
        "test = pd.DataFrame({\"MAE\": vertical_MAE, \"RMSE\": vertical_RMSE, \"MMRE\": vertical_MMRE, \"PRED\": vertical_PRED})\n",
        "test.to_csv(r'/content/Patient_result_SVR_5_final.csv', index=False)"
      ]
    }
  ],
  "metadata": {
    "colab": {
      "provenance": []
    },
    "kaggle": {
      "accelerator": "nvidiaTeslaT4",
      "dataSources": [
        {
          "datasetId": 5430803,
          "sourceId": 9013403,
          "sourceType": "datasetVersion"
        }
      ],
      "dockerImageVersionId": 30747,
      "isGpuEnabled": true,
      "isInternetEnabled": true,
      "language": "python",
      "sourceType": "notebook"
    },
    "kernelspec": {
      "display_name": "Python 3",
      "name": "python3"
    },
    "language_info": {
      "codemirror_mode": {
        "name": "ipython",
        "version": 3
      },
      "file_extension": ".py",
      "mimetype": "text/x-python",
      "name": "python",
      "nbconvert_exporter": "python",
      "pygments_lexer": "ipython3",
      "version": "3.10.13"
    }
  },
  "nbformat": 4,
  "nbformat_minor": 0
}